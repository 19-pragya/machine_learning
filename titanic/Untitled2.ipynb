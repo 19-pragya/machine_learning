{
 "cells": [
  {
   "cell_type": "code",
   "execution_count": 1,
   "metadata": {},
   "outputs": [],
   "source": [
    "import matplotlib.pyplot as plt\n",
    "import pandas as pd\n",
    "import numpy as np"
   ]
  },
  {
   "cell_type": "code",
   "execution_count": 2,
   "metadata": {},
   "outputs": [
    {
     "data": {
      "image/png": "[encoded data removed]",
      "text/plain": [
       "<Figure size 432x288 with 1 Axes>"
      ]
     },
     "metadata": {
      "needs_background": "light"
     },
     "output_type": "display_data"
    }
   ],
   "source": [
    "#x = [1,2,3,4,5,6,7,8,9]\n",
    "#y = [1,2,3,4,5,6,7,8,9]\n",
    "#plt.xlabel('X_axis')\n",
    "#plt.ylabel('Y_axis')\n",
    "#plt.title('Scatter Plot')\n",
    "#plt.scatter(x,y)\n",
    "#plt.show()"
   ]
  },
  {
   "cell_type": "code",
   "execution_count": 3,
   "metadata": {},
   "outputs": [],
   "source": [
    "x = np.random.normal(2,1,500)"
   ]
  },
  {
   "cell_type": "code",
   "execution_count": 4,
   "metadata": {},
   "outputs": [
    {
     "name": "stdout",
     "output_type": "stream",
     "text": [
      "[ 2.16995184e+00  2.33282754e+00 -1.02951367e-01  1.88843703e+00\n",
      "  1.21029354e+00  9.02978128e-01  1.69667493e+00  3.20294778e+00\n",
      "  1.98800513e+00  4.06394842e+00  1.05456854e-01  9.73163657e-01\n",
      "  2.26040634e+00  2.25435269e+00  1.47257962e+00 -5.63939052e-01\n",
      "  1.51640231e+00  1.73978511e+00  2.27490398e+00  2.38229323e+00\n",
      "  1.65061697e+00  2.89931791e+00  1.05025180e+00  1.45924331e+00\n",
      "  6.12935107e-01  1.02752745e+00  3.16199527e+00  1.49954897e+00\n",
      "  3.14173338e+00  3.64732686e+00  2.24850730e+00  9.54698939e-01\n",
      "  2.11643272e+00  2.24480867e+00  2.33942263e+00  1.38605892e+00\n",
      "  1.82516479e+00  1.77508271e+00  6.87773033e-01  1.73397226e+00\n",
      "  4.11626608e+00  2.45770801e+00  2.29871128e+00  2.42501079e+00\n",
      "  3.03418714e+00  3.01257792e+00  3.54516841e-01  2.12403236e+00\n",
      "  2.55169715e+00  2.14829993e+00  2.98701222e+00  1.89871936e+00\n",
      "  2.23644453e+00  2.84138524e+00  1.75428313e+00  2.04351856e+00\n",
      "  4.45905359e+00  9.08037495e-01  1.06067366e+00  2.39438919e+00\n",
      "  2.52831313e+00  1.14128349e+00  9.58406274e-01  3.46792856e+00\n",
      "  2.86874378e+00  2.15721681e+00  2.69988283e+00  2.69250247e+00\n",
      "  2.26947683e+00  3.01080304e+00  4.66922532e-01  1.28028627e+00\n",
      "  1.29617532e+00  1.19970173e+00  2.29303059e+00  8.24430904e-01\n",
      "  4.64441507e-01  1.15357699e+00  3.80259352e+00  9.47189964e-01\n",
      "  1.28538749e+00  2.22355140e+00  1.43558333e+00  3.61252086e+00\n",
      "  1.48770316e+00  2.66521543e-02  3.89254083e+00  2.58869139e+00\n",
      "  3.67760918e+00  2.49168141e+00  1.84618816e+00  2.78183179e+00\n",
      "  3.49720641e+00  4.50687822e-02  2.41990283e+00  4.08854290e+00\n",
      "  1.40979149e+00  7.93776779e-01  1.75818443e+00  1.37240226e+00\n",
      "  4.96998673e-01  2.20965876e+00  2.27459674e+00  2.50825180e+00\n",
      "  1.79291970e+00  1.13754980e+00  2.19870547e+00  2.43564279e+00\n",
      "  2.50855091e+00  1.24847579e+00  1.57170005e+00  3.62802304e+00\n",
      "  1.36049434e+00  1.32814837e+00  3.49711223e+00  2.04610974e+00\n",
      "  2.59353988e+00  1.74078014e+00  1.80756038e+00  3.01327591e+00\n",
      "  1.80525959e+00  2.09594014e+00  1.59288035e+00  1.63623876e+00\n",
      "  2.22681788e+00  1.51646097e+00  3.14441665e+00  3.36302977e+00\n",
      "  2.24133710e+00  9.03275771e-01  3.15748593e+00  1.10922713e+00\n",
      "  2.83030797e+00  3.71550085e+00  2.01081411e+00 -6.16035738e-01\n",
      "  3.63853800e+00  3.01531216e+00  2.06577789e-01  2.19341925e+00\n",
      "  3.93342371e-01  2.42794609e+00  3.74698870e+00  3.33914383e+00\n",
      "  2.95182237e+00  3.93904383e+00  2.81021771e+00  6.76127105e-01\n",
      "  1.66670722e+00  4.00726474e+00  1.63058550e+00  8.91158702e-01\n",
      "  3.84175781e+00  1.11956212e+00  3.18962791e+00  2.91007541e+00\n",
      "  2.70579303e+00  1.00788769e+00  2.72265227e+00  1.44958953e+00\n",
      "  1.91802024e+00  1.15421522e+00  2.04253372e+00  2.99504996e+00\n",
      "  1.59223063e+00  1.15034689e+00  4.85721576e-01  3.36373423e+00\n",
      "  2.64375848e+00  2.40728998e+00  3.08533317e+00  2.88316298e+00\n",
      "  2.18860926e+00  3.61867710e+00  3.44122008e-01  6.90127725e-01\n",
      "  1.98404678e+00  1.56129269e+00  2.33490411e+00  2.55895100e+00\n",
      "  1.44268446e+00  3.15679995e+00  2.32729145e+00  3.09366725e-01\n",
      "  1.77919277e+00  1.37387745e+00  2.06468618e+00  2.12599170e+00\n",
      "  3.29200071e+00  1.86674429e+00  2.66684341e+00  7.33147996e-01\n",
      "  2.03025955e+00  1.11672896e+00  3.21943897e+00  2.20683162e+00\n",
      "  2.03985778e+00  1.39560602e+00  1.48427784e+00  2.86465523e+00\n",
      "  3.04476733e+00  2.27341175e+00  8.06685712e-01  2.12496071e+00\n",
      "  2.17626713e+00  1.36114058e+00  1.78047837e+00 -1.20529145e-01\n",
      "  2.98753051e+00  1.81831814e+00  2.20437155e+00  3.39811030e+00\n",
      "  2.08877681e+00  2.01360516e+00  3.20406649e+00  1.75769655e+00\n",
      "  1.33097441e+00  3.15814786e-01  3.45122105e+00  3.07093884e+00\n",
      "  4.53266541e-01  2.90659767e+00  3.72144088e+00  1.71370917e+00\n",
      "  1.47631135e+00  1.94711050e+00  9.31690048e-01  2.50731173e+00\n",
      "  1.59994948e+00  1.96478921e+00  6.68836725e-01  1.80132554e+00\n",
      "  1.54082193e+00  2.38816188e+00  2.36704835e+00  8.58153710e-01\n",
      "  3.31891165e+00  2.20476652e+00  9.95367915e-01  2.00981096e+00\n",
      "  2.80158385e+00  1.87227685e+00  1.95069540e+00  1.67725529e+00\n",
      "  4.01037959e+00  2.00799823e+00  2.45441389e-01 -4.88468592e-01\n",
      "  4.02198235e+00  2.77746381e+00  1.44669997e+00  3.18187847e+00\n",
      "  2.86637035e+00  8.75116263e-01  1.77263260e+00  2.86542249e+00\n",
      "  2.10014013e+00  2.38717604e+00 -2.99317742e-01  3.18113474e+00\n",
      " -9.39958219e-04  8.47090783e-01  2.36983381e+00  3.22447312e+00\n",
      "  3.60737235e+00  2.99235136e+00  1.24067761e+00  3.64555895e+00\n",
      "  3.68199825e+00  3.49679771e+00  3.67797158e+00  1.18135024e+00\n",
      "  2.83438440e+00  1.03322506e+00  1.98243762e+00  3.10306656e+00\n",
      "  2.60350018e+00  2.27897732e+00  3.05279540e+00  3.68937859e+00\n",
      "  2.15954525e+00  4.02695796e+00  2.55346206e+00  3.03130640e+00\n",
      "  3.50397112e+00  3.06568589e+00 -8.11999632e-02  1.29765821e+00\n",
      "  3.18759551e+00  2.57604425e+00  5.91793897e-01  1.34719107e+00\n",
      "  3.41990030e+00  3.64603056e-01  9.98164444e-01  1.55049384e-01\n",
      "  1.76389796e+00  9.60178629e-01  1.02898683e+00  1.13416038e+00\n",
      "  2.60386059e+00  1.07391743e+00  1.25910791e+00  1.35579356e+00\n",
      "  2.74041282e+00  2.90694642e+00  2.52890502e+00  1.86255993e+00\n",
      "  1.43990170e+00 -5.87204364e-01  2.12720838e+00  3.73421449e+00\n",
      "  1.60088290e+00  4.10694819e+00  2.55295976e+00  1.12616603e+00\n",
      "  2.05210930e+00  1.74448751e+00  2.68341619e+00  2.27591119e+00\n",
      "  2.60792487e+00  9.21453504e-01  3.13553134e+00  1.24278474e+00\n",
      "  1.34348053e+00  1.95182098e+00  3.19369193e+00  2.50389699e+00\n",
      "  1.00453199e+00  1.37741384e+00  8.77722585e-01  2.33760918e+00\n",
      "  4.59802920e-01  1.18321815e+00  2.16832640e+00  7.53399870e-01\n",
      "  1.97254559e+00  1.39986324e+00  1.39080456e+00  1.70033452e+00\n",
      "  1.91130107e+00  3.18526465e+00  3.59509973e+00  3.00456010e+00\n",
      "  1.68216689e+00  1.32923748e+00  3.51604819e+00  1.34345960e+00\n",
      "  2.26962342e+00  1.48418878e+00  8.51296093e-01  2.17227836e+00\n",
      "  2.11816487e+00  1.35589718e+00  2.74892839e+00  2.29839206e+00\n",
      "  2.26547609e+00  1.93274063e+00  1.79440180e+00  4.99735058e-01\n",
      "  3.50269387e+00  8.78036272e-01  2.86506058e+00  1.35179808e-01\n",
      "  7.37082925e-01  1.72653075e+00  1.26111067e+00  1.53235056e+00\n",
      "  3.42913506e-01  6.24384985e-01  2.73381481e+00  2.52916507e+00\n",
      "  2.14003923e+00  1.71671528e+00  2.57426334e+00  1.82644678e+00\n",
      "  1.33357985e+00  5.98610577e-01  2.84561554e+00  3.31795860e+00\n",
      "  1.88673473e+00  2.64039219e+00  1.98254406e+00  1.53952292e+00\n",
      "  2.37004940e+00  4.67951355e+00  1.34367260e+00 -6.97723437e-01\n",
      "  3.48895587e+00  1.10968236e+00  3.35656389e-01  1.97095312e+00\n",
      "  2.69517915e+00  8.10535511e-01  1.60250970e+00  1.83630822e+00\n",
      "  1.26709379e+00  3.88353312e+00  2.91683398e+00  7.24632419e-01\n",
      "  4.62576817e-01  2.19960252e+00  3.33697384e+00  3.00049941e+00\n",
      "  2.26471365e+00  3.28967125e+00  3.75828452e-01  2.28592782e+00\n",
      "  3.28474246e+00  3.32584783e+00  1.22428251e+00  1.18594022e+00\n",
      "  2.57493017e+00  6.99737873e-02  1.93480577e+00  3.42513208e+00\n",
      "  5.62772597e-01  2.13900433e+00  3.45336397e+00  1.85986045e+00\n",
      "  8.25820818e-01  1.86016147e+00  2.44656928e+00  1.53239994e+00\n",
      "  1.57869255e+00  3.24176952e+00  4.24410270e+00  2.40508912e+00\n",
      "  1.50165732e+00  1.33170753e+00  1.45683260e+00  1.93239047e+00\n",
      "  2.78123375e+00  2.54231467e+00 -9.48069638e-02  2.12948832e+00\n",
      "  1.69376337e+00  2.41101763e+00  2.54787022e+00  4.46545235e-01\n",
      "  2.90617655e+00  4.11373444e+00  5.37203414e-01  1.64858972e+00\n",
      "  2.56211447e+00  2.51525216e+00  1.92741444e+00  1.45220713e+00\n",
      "  3.77158145e+00  3.22079077e+00  1.59029523e+00  1.03865408e+00\n",
      "  1.98918320e+00  7.39986217e-01  2.55496960e+00  8.82443196e-01\n",
      "  1.92724993e+00  2.02325630e+00  2.03833571e+00  1.40626860e+00\n",
      "  2.90286838e+00  1.71959552e+00  3.99436112e+00  1.96670401e+00\n",
      "  2.86435130e+00  1.40119799e+00  2.38422182e+00  1.02204110e+00\n",
      "  1.97339090e+00  1.35726585e+00  2.22901650e+00  8.42780613e-01\n",
      "  2.03925699e+00  1.74933699e+00  1.35353674e+00  3.11105772e+00\n",
      "  1.93126349e+00  1.50238594e+00  2.23948551e+00  2.37119353e+00\n",
      "  7.27168693e-01  2.87494545e+00  7.69061645e-01  2.27858499e+00\n",
      "  1.29086703e+00 -4.51702366e-03  1.84745205e+00  1.66708455e-02\n",
      "  3.51171449e+00  2.99425325e+00  1.84227934e+00  1.19394834e+00\n",
      "  2.06404894e+00  1.38220966e+00  1.14086386e+00  1.51053959e+00\n",
      "  2.19362407e+00  3.44788609e+00  1.88087334e+00  9.04930765e-01]\n"
     ]
    }
   ],
   "source": [
    "print(x)"
   ]
  },
  {
   "cell_type": "code",
   "execution_count": 9,
   "metadata": {},
   "outputs": [],
   "source": [
    "#generating the data using normal representation\n",
    "df = np.random.normal(5,1,500)"
   ]
  },
  {
   "cell_type": "code",
   "execution_count": 12,
   "metadata": {},
   "outputs": [
    {
     "ename": "ValueError",
     "evalue": "x and y must be the same size",
     "output_type": "error",
     "traceback": [
      "\u001b[1;31m---------------------------------------------------------------------------\u001b[0m",
      "\u001b[1;31mValueError\u001b[0m                                Traceback (most recent call last)",
      "\u001b[1;32m<ipython-input-12-e2622a118631>\u001b[0m in \u001b[0;36m<module>\u001b[1;34m\u001b[0m\n\u001b[0;32m      2\u001b[0m \u001b[0mplt\u001b[0m\u001b[1;33m.\u001b[0m\u001b[0mylabel\u001b[0m\u001b[1;33m(\u001b[0m\u001b[1;34m'Y_Values'\u001b[0m\u001b[1;33m)\u001b[0m\u001b[1;33m\u001b[0m\u001b[1;33m\u001b[0m\u001b[0m\n\u001b[0;32m      3\u001b[0m \u001b[0mplt\u001b[0m\u001b[1;33m.\u001b[0m\u001b[0mtitle\u001b[0m\u001b[1;33m(\u001b[0m\u001b[1;34m'Scatter Plot'\u001b[0m\u001b[1;33m)\u001b[0m\u001b[1;33m\u001b[0m\u001b[1;33m\u001b[0m\u001b[0m\n\u001b[1;32m----> 4\u001b[1;33m \u001b[0mplt\u001b[0m\u001b[1;33m.\u001b[0m\u001b[0mscatter\u001b[0m\u001b[1;33m(\u001b[0m\u001b[0mx\u001b[0m\u001b[1;33m,\u001b[0m\u001b[0my\u001b[0m\u001b[1;33m)\u001b[0m\u001b[1;33m\u001b[0m\u001b[1;33m\u001b[0m\u001b[0m\n\u001b[0m\u001b[0;32m      5\u001b[0m \u001b[0mplt\u001b[0m\u001b[1;33m.\u001b[0m\u001b[0mshow\u001b[0m\u001b[1;33m(\u001b[0m\u001b[1;33m)\u001b[0m\u001b[1;33m\u001b[0m\u001b[1;33m\u001b[0m\u001b[0m\n",
      "\u001b[1;32mc:\\users\\91810\\appdata\\local\\programs\\python\\python37\\lib\\site-packages\\matplotlib\\pyplot.py\u001b[0m in \u001b[0;36mscatter\u001b[1;34m(x, y, s, c, marker, cmap, norm, vmin, vmax, alpha, linewidths, verts, edgecolors, plotnonfinite, data, **kwargs)\u001b[0m\n\u001b[0;32m   2893\u001b[0m         \u001b[0mverts\u001b[0m\u001b[1;33m=\u001b[0m\u001b[0mverts\u001b[0m\u001b[1;33m,\u001b[0m \u001b[0medgecolors\u001b[0m\u001b[1;33m=\u001b[0m\u001b[0medgecolors\u001b[0m\u001b[1;33m,\u001b[0m\u001b[1;33m\u001b[0m\u001b[1;33m\u001b[0m\u001b[0m\n\u001b[0;32m   2894\u001b[0m         \u001b[0mplotnonfinite\u001b[0m\u001b[1;33m=\u001b[0m\u001b[0mplotnonfinite\u001b[0m\u001b[1;33m,\u001b[0m\u001b[1;33m\u001b[0m\u001b[1;33m\u001b[0m\u001b[0m\n\u001b[1;32m-> 2895\u001b[1;33m         **({\"data\": data} if data is not None else {}), **kwargs)\n\u001b[0m\u001b[0;32m   2896\u001b[0m     \u001b[0msci\u001b[0m\u001b[1;33m(\u001b[0m\u001b[0m__ret\u001b[0m\u001b[1;33m)\u001b[0m\u001b[1;33m\u001b[0m\u001b[1;33m\u001b[0m\u001b[0m\n\u001b[0;32m   2897\u001b[0m     \u001b[1;32mreturn\u001b[0m \u001b[0m__ret\u001b[0m\u001b[1;33m\u001b[0m\u001b[1;33m\u001b[0m\u001b[0m\n",
      "\u001b[1;32mc:\\users\\91810\\appdata\\local\\programs\\python\\python37\\lib\\site-packages\\matplotlib\\__init__.py\u001b[0m in \u001b[0;36minner\u001b[1;34m(ax, data, *args, **kwargs)\u001b[0m\n\u001b[0;32m   1445\u001b[0m     \u001b[1;32mdef\u001b[0m \u001b[0minner\u001b[0m\u001b[1;33m(\u001b[0m\u001b[0max\u001b[0m\u001b[1;33m,\u001b[0m \u001b[1;33m*\u001b[0m\u001b[0margs\u001b[0m\u001b[1;33m,\u001b[0m \u001b[0mdata\u001b[0m\u001b[1;33m=\u001b[0m\u001b[1;32mNone\u001b[0m\u001b[1;33m,\u001b[0m \u001b[1;33m**\u001b[0m\u001b[0mkwargs\u001b[0m\u001b[1;33m)\u001b[0m\u001b[1;33m:\u001b[0m\u001b[1;33m\u001b[0m\u001b[1;33m\u001b[0m\u001b[0m\n\u001b[0;32m   1446\u001b[0m         \u001b[1;32mif\u001b[0m \u001b[0mdata\u001b[0m \u001b[1;32mis\u001b[0m \u001b[1;32mNone\u001b[0m\u001b[1;33m:\u001b[0m\u001b[1;33m\u001b[0m\u001b[1;33m\u001b[0m\u001b[0m\n\u001b[1;32m-> 1447\u001b[1;33m             \u001b[1;32mreturn\u001b[0m \u001b[0mfunc\u001b[0m\u001b[1;33m(\u001b[0m\u001b[0max\u001b[0m\u001b[1;33m,\u001b[0m \u001b[1;33m*\u001b[0m\u001b[0mmap\u001b[0m\u001b[1;33m(\u001b[0m\u001b[0msanitize_sequence\u001b[0m\u001b[1;33m,\u001b[0m \u001b[0margs\u001b[0m\u001b[1;33m)\u001b[0m\u001b[1;33m,\u001b[0m \u001b[1;33m**\u001b[0m\u001b[0mkwargs\u001b[0m\u001b[1;33m)\u001b[0m\u001b[1;33m\u001b[0m\u001b[1;33m\u001b[0m\u001b[0m\n\u001b[0m\u001b[0;32m   1448\u001b[0m \u001b[1;33m\u001b[0m\u001b[0m\n\u001b[0;32m   1449\u001b[0m         \u001b[0mbound\u001b[0m \u001b[1;33m=\u001b[0m \u001b[0mnew_sig\u001b[0m\u001b[1;33m.\u001b[0m\u001b[0mbind\u001b[0m\u001b[1;33m(\u001b[0m\u001b[0max\u001b[0m\u001b[1;33m,\u001b[0m \u001b[1;33m*\u001b[0m\u001b[0margs\u001b[0m\u001b[1;33m,\u001b[0m \u001b[1;33m**\u001b[0m\u001b[0mkwargs\u001b[0m\u001b[1;33m)\u001b[0m\u001b[1;33m\u001b[0m\u001b[1;33m\u001b[0m\u001b[0m\n",
      "\u001b[1;32mc:\\users\\91810\\appdata\\local\\programs\\python\\python37\\lib\\site-packages\\matplotlib\\cbook\\deprecation.py\u001b[0m in \u001b[0;36mwrapper\u001b[1;34m(*inner_args, **inner_kwargs)\u001b[0m\n\u001b[0;32m    409\u001b[0m                          \u001b[1;32melse\u001b[0m \u001b[0mdeprecation_addendum\u001b[0m\u001b[1;33m,\u001b[0m\u001b[1;33m\u001b[0m\u001b[1;33m\u001b[0m\u001b[0m\n\u001b[0;32m    410\u001b[0m                 **kwargs)\n\u001b[1;32m--> 411\u001b[1;33m         \u001b[1;32mreturn\u001b[0m \u001b[0mfunc\u001b[0m\u001b[1;33m(\u001b[0m\u001b[1;33m*\u001b[0m\u001b[0minner_args\u001b[0m\u001b[1;33m,\u001b[0m \u001b[1;33m**\u001b[0m\u001b[0minner_kwargs\u001b[0m\u001b[1;33m)\u001b[0m\u001b[1;33m\u001b[0m\u001b[1;33m\u001b[0m\u001b[0m\n\u001b[0m\u001b[0;32m    412\u001b[0m \u001b[1;33m\u001b[0m\u001b[0m\n\u001b[0;32m    413\u001b[0m     \u001b[1;32mreturn\u001b[0m \u001b[0mwrapper\u001b[0m\u001b[1;33m\u001b[0m\u001b[1;33m\u001b[0m\u001b[0m\n",
      "\u001b[1;32mc:\\users\\91810\\appdata\\local\\programs\\python\\python37\\lib\\site-packages\\matplotlib\\axes\\_axes.py\u001b[0m in \u001b[0;36mscatter\u001b[1;34m(self, x, y, s, c, marker, cmap, norm, vmin, vmax, alpha, linewidths, verts, edgecolors, plotnonfinite, **kwargs)\u001b[0m\n\u001b[0;32m   4439\u001b[0m         \u001b[0my\u001b[0m \u001b[1;33m=\u001b[0m \u001b[0mnp\u001b[0m\u001b[1;33m.\u001b[0m\u001b[0mma\u001b[0m\u001b[1;33m.\u001b[0m\u001b[0mravel\u001b[0m\u001b[1;33m(\u001b[0m\u001b[0my\u001b[0m\u001b[1;33m)\u001b[0m\u001b[1;33m\u001b[0m\u001b[1;33m\u001b[0m\u001b[0m\n\u001b[0;32m   4440\u001b[0m         \u001b[1;32mif\u001b[0m \u001b[0mx\u001b[0m\u001b[1;33m.\u001b[0m\u001b[0msize\u001b[0m \u001b[1;33m!=\u001b[0m \u001b[0my\u001b[0m\u001b[1;33m.\u001b[0m\u001b[0msize\u001b[0m\u001b[1;33m:\u001b[0m\u001b[1;33m\u001b[0m\u001b[1;33m\u001b[0m\u001b[0m\n\u001b[1;32m-> 4441\u001b[1;33m             \u001b[1;32mraise\u001b[0m \u001b[0mValueError\u001b[0m\u001b[1;33m(\u001b[0m\u001b[1;34m\"x and y must be the same size\"\u001b[0m\u001b[1;33m)\u001b[0m\u001b[1;33m\u001b[0m\u001b[1;33m\u001b[0m\u001b[0m\n\u001b[0m\u001b[0;32m   4442\u001b[0m \u001b[1;33m\u001b[0m\u001b[0m\n\u001b[0;32m   4443\u001b[0m         \u001b[1;32mif\u001b[0m \u001b[0ms\u001b[0m \u001b[1;32mis\u001b[0m \u001b[1;32mNone\u001b[0m\u001b[1;33m:\u001b[0m\u001b[1;33m\u001b[0m\u001b[1;33m\u001b[0m\u001b[0m\n",
      "\u001b[1;31mValueError\u001b[0m: x and y must be the same size"
     ]
    },
    {
     "data": {
      "image/png": "[encoded data removed]",
      "text/plain": [
       "<Figure size 432x288 with 1 Axes>"
      ]
     },
     "metadata": {
      "needs_background": "light"
     },
     "output_type": "display_data"
    }
   ],
   "source": [
    "plt.xlabel('X_Values')\n",
    "plt.ylabel('Y_Values')\n",
    "plt.title('Scatter Plot')\n",
    "plt.scatter(x,y)\n",
    "plt.show()"
   ]
  },
  {
   "cell_type": "code",
   "execution_count": 14,
   "metadata": {},
   "outputs": [
    {
     "data": {
      "image/png": "[encoded data removed]",
      "text/plain": [
       "<Figure size 432x288 with 1 Axes>"
      ]
     },
     "metadata": {
      "needs_background": "light"
     },
     "output_type": "display_data"
    }
   ],
   "source": [
    "#Bar plot\n",
    "course = np.array(['ai','ml','data science'])\n",
    "no_of_students = np.array([200,500,499])\n",
    "plt.bar(course,no_of_students,width=0.3,color='purple')\n",
    "plt.show()"
   ]
  },
  {
   "cell_type": "code",
   "execution_count": 19,
   "metadata": {},
   "outputs": [],
   "source": [
    "df = pd.read_csv('titanic.csv')"
   ]
  },
  {
   "cell_type": "code",
   "execution_count": 16,
   "metadata": {},
   "outputs": [
    {
     "data": {
      "text/html": [
       "<div>\n",
       "<style scoped>\n",
       "    .dataframe tbody tr th:only-of-type {\n",
       "        vertical-align: middle;\n",
       "    }\n",
       "\n",
       "    .dataframe tbody tr th {\n",
       "        vertical-align: top;\n",
       "    }\n",
       "\n",
       "    .dataframe thead th {\n",
       "        text-align: right;\n",
       "    }\n",
       "</style>\n",
       "<table border=\"1\" class=\"dataframe\">\n",
       "  <thead>\n",
       "    <tr style=\"text-align: right;\">\n",
       "      <th></th>\n",
       "      <th>Passengerid</th>\n",
       "      <th>Age</th>\n",
       "      <th>Fare</th>\n",
       "      <th>Sex</th>\n",
       "      <th>sibsp</th>\n",
       "      <th>zero</th>\n",
       "      <th>zero.1</th>\n",
       "      <th>zero.2</th>\n",
       "      <th>zero.3</th>\n",
       "      <th>zero.4</th>\n",
       "      <th>...</th>\n",
       "      <th>zero.12</th>\n",
       "      <th>zero.13</th>\n",
       "      <th>zero.14</th>\n",
       "      <th>Pclass</th>\n",
       "      <th>zero.15</th>\n",
       "      <th>zero.16</th>\n",
       "      <th>Embarked</th>\n",
       "      <th>zero.17</th>\n",
       "      <th>zero.18</th>\n",
       "      <th>2urvived</th>\n",
       "    </tr>\n",
       "  </thead>\n",
       "  <tbody>\n",
       "    <tr>\n",
       "      <th>0</th>\n",
       "      <td>1</td>\n",
       "      <td>22.0</td>\n",
       "      <td>7.2500</td>\n",
       "      <td>0</td>\n",
       "      <td>1</td>\n",
       "      <td>0</td>\n",
       "      <td>0</td>\n",
       "      <td>0</td>\n",
       "      <td>0</td>\n",
       "      <td>0</td>\n",
       "      <td>...</td>\n",
       "      <td>0</td>\n",
       "      <td>0</td>\n",
       "      <td>0</td>\n",
       "      <td>3</td>\n",
       "      <td>0</td>\n",
       "      <td>0</td>\n",
       "      <td>2.0</td>\n",
       "      <td>0</td>\n",
       "      <td>0</td>\n",
       "      <td>0</td>\n",
       "    </tr>\n",
       "    <tr>\n",
       "      <th>1</th>\n",
       "      <td>2</td>\n",
       "      <td>38.0</td>\n",
       "      <td>71.2833</td>\n",
       "      <td>1</td>\n",
       "      <td>1</td>\n",
       "      <td>0</td>\n",
       "      <td>0</td>\n",
       "      <td>0</td>\n",
       "      <td>0</td>\n",
       "      <td>0</td>\n",
       "      <td>...</td>\n",
       "      <td>0</td>\n",
       "      <td>0</td>\n",
       "      <td>0</td>\n",
       "      <td>1</td>\n",
       "      <td>0</td>\n",
       "      <td>0</td>\n",
       "      <td>0.0</td>\n",
       "      <td>0</td>\n",
       "      <td>0</td>\n",
       "      <td>1</td>\n",
       "    </tr>\n",
       "    <tr>\n",
       "      <th>2</th>\n",
       "      <td>3</td>\n",
       "      <td>26.0</td>\n",
       "      <td>7.9250</td>\n",
       "      <td>1</td>\n",
       "      <td>0</td>\n",
       "      <td>0</td>\n",
       "      <td>0</td>\n",
       "      <td>0</td>\n",
       "      <td>0</td>\n",
       "      <td>0</td>\n",
       "      <td>...</td>\n",
       "      <td>0</td>\n",
       "      <td>0</td>\n",
       "      <td>0</td>\n",
       "      <td>3</td>\n",
       "      <td>0</td>\n",
       "      <td>0</td>\n",
       "      <td>2.0</td>\n",
       "      <td>0</td>\n",
       "      <td>0</td>\n",
       "      <td>1</td>\n",
       "    </tr>\n",
       "    <tr>\n",
       "      <th>3</th>\n",
       "      <td>4</td>\n",
       "      <td>35.0</td>\n",
       "      <td>53.1000</td>\n",
       "      <td>1</td>\n",
       "      <td>1</td>\n",
       "      <td>0</td>\n",
       "      <td>0</td>\n",
       "      <td>0</td>\n",
       "      <td>0</td>\n",
       "      <td>0</td>\n",
       "      <td>...</td>\n",
       "      <td>0</td>\n",
       "      <td>0</td>\n",
       "      <td>0</td>\n",
       "      <td>1</td>\n",
       "      <td>0</td>\n",
       "      <td>0</td>\n",
       "      <td>2.0</td>\n",
       "      <td>0</td>\n",
       "      <td>0</td>\n",
       "      <td>1</td>\n",
       "    </tr>\n",
       "    <tr>\n",
       "      <th>4</th>\n",
       "      <td>5</td>\n",
       "      <td>35.0</td>\n",
       "      <td>8.0500</td>\n",
       "      <td>0</td>\n",
       "      <td>0</td>\n",
       "      <td>0</td>\n",
       "      <td>0</td>\n",
       "      <td>0</td>\n",
       "      <td>0</td>\n",
       "      <td>0</td>\n",
       "      <td>...</td>\n",
       "      <td>0</td>\n",
       "      <td>0</td>\n",
       "      <td>0</td>\n",
       "      <td>3</td>\n",
       "      <td>0</td>\n",
       "      <td>0</td>\n",
       "      <td>2.0</td>\n",
       "      <td>0</td>\n",
       "      <td>0</td>\n",
       "      <td>0</td>\n",
       "    </tr>\n",
       "  </tbody>\n",
       "</table>\n",
       "<p>5 rows × 28 columns</p>\n",
       "</div>"
      ],
      "text/plain": [
       "   Passengerid   Age     Fare  Sex  sibsp  zero  zero.1  zero.2  zero.3  \\\n",
       "0            1  22.0   7.2500    0      1     0       0       0       0   \n",
       "1            2  38.0  71.2833    1      1     0       0       0       0   \n",
       "2            3  26.0   7.9250    1      0     0       0       0       0   \n",
       "3            4  35.0  53.1000    1      1     0       0       0       0   \n",
       "4            5  35.0   8.0500    0      0     0       0       0       0   \n",
       "\n",
       "   zero.4  ...  zero.12  zero.13  zero.14  Pclass  zero.15  zero.16  Embarked  \\\n",
       "0       0  ...        0        0        0       3        0        0       2.0   \n",
       "1       0  ...        0        0        0       1        0        0       0.0   \n",
       "2       0  ...        0        0        0       3        0        0       2.0   \n",
       "3       0  ...        0        0        0       1        0        0       2.0   \n",
       "4       0  ...        0        0        0       3        0        0       2.0   \n",
       "\n",
       "   zero.17  zero.18  2urvived  \n",
       "0        0        0         0  \n",
       "1        0        0         1  \n",
       "2        0        0         1  \n",
       "3        0        0         1  \n",
       "4        0        0         0  \n",
       "\n",
       "[5 rows x 28 columns]"
      ]
     },
     "execution_count": 16,
     "metadata": {},
     "output_type": "execute_result"
    }
   ],
   "source": [
    "df.head()"
   ]
  },
  {
   "cell_type": "code",
   "execution_count": 22,
   "metadata": {},
   "outputs": [
    {
     "data": {
      "text/plain": [
       "array([   1,    2,    3, ..., 1307, 1308, 1309], dtype=int64)"
      ]
     },
     "execution_count": 22,
     "metadata": {},
     "output_type": "execute_result"
    }
   ],
   "source": [
    "df.Passengerid.unique()"
   ]
  },
  {
   "cell_type": "code",
   "execution_count": 27,
   "metadata": {},
   "outputs": [
    {
     "ename": "AttributeError",
     "evalue": "'Series' object has no attribute 'Value_Count'",
     "output_type": "error",
     "traceback": [
      "\u001b[1;31m---------------------------------------------------------------------------\u001b[0m",
      "\u001b[1;31mAttributeError\u001b[0m                            Traceback (most recent call last)",
      "\u001b[1;32m<ipython-input-27-7fedf170e40b>\u001b[0m in \u001b[0;36m<module>\u001b[1;34m\u001b[0m\n\u001b[1;32m----> 1\u001b[1;33m \u001b[0mx\u001b[0m \u001b[1;33m=\u001b[0m \u001b[0mdf\u001b[0m\u001b[1;33m.\u001b[0m\u001b[0mPassengerid\u001b[0m\u001b[1;33m.\u001b[0m\u001b[0mValue_Count\u001b[0m\u001b[1;33m(\u001b[0m\u001b[1;33m)\u001b[0m\u001b[1;33m.\u001b[0m\u001b[0mindex\u001b[0m\u001b[1;33m\u001b[0m\u001b[1;33m\u001b[0m\u001b[0m\n\u001b[0m\u001b[0;32m      2\u001b[0m \u001b[0my\u001b[0m \u001b[1;33m=\u001b[0m \u001b[0mdf\u001b[0m\u001b[1;33m.\u001b[0m\u001b[0mPassengerid\u001b[0m\u001b[1;33m.\u001b[0m\u001b[0mValue_Count\u001b[0m\u001b[1;33m(\u001b[0m\u001b[1;33m)\u001b[0m\u001b[1;33m.\u001b[0m\u001b[0mvalues\u001b[0m\u001b[1;33m\u001b[0m\u001b[1;33m\u001b[0m\u001b[0m\n\u001b[0;32m      3\u001b[0m \u001b[1;33m\u001b[0m\u001b[0m\n\u001b[0;32m      4\u001b[0m \u001b[0mprint\u001b[0m\u001b[1;33m(\u001b[0m\u001b[0mx\u001b[0m\u001b[1;33m)\u001b[0m\u001b[1;33m\u001b[0m\u001b[1;33m\u001b[0m\u001b[0m\n",
      "\u001b[1;32mc:\\users\\91810\\appdata\\local\\programs\\python\\python37\\lib\\site-packages\\pandas\\core\\generic.py\u001b[0m in \u001b[0;36m__getattr__\u001b[1;34m(self, name)\u001b[0m\n\u001b[0;32m   5458\u001b[0m             \u001b[1;32mif\u001b[0m \u001b[0mself\u001b[0m\u001b[1;33m.\u001b[0m\u001b[0m_info_axis\u001b[0m\u001b[1;33m.\u001b[0m\u001b[0m_can_hold_identifiers_and_holds_name\u001b[0m\u001b[1;33m(\u001b[0m\u001b[0mname\u001b[0m\u001b[1;33m)\u001b[0m\u001b[1;33m:\u001b[0m\u001b[1;33m\u001b[0m\u001b[1;33m\u001b[0m\u001b[0m\n\u001b[0;32m   5459\u001b[0m                 \u001b[1;32mreturn\u001b[0m \u001b[0mself\u001b[0m\u001b[1;33m[\u001b[0m\u001b[0mname\u001b[0m\u001b[1;33m]\u001b[0m\u001b[1;33m\u001b[0m\u001b[1;33m\u001b[0m\u001b[0m\n\u001b[1;32m-> 5460\u001b[1;33m             \u001b[1;32mreturn\u001b[0m \u001b[0mobject\u001b[0m\u001b[1;33m.\u001b[0m\u001b[0m__getattribute__\u001b[0m\u001b[1;33m(\u001b[0m\u001b[0mself\u001b[0m\u001b[1;33m,\u001b[0m \u001b[0mname\u001b[0m\u001b[1;33m)\u001b[0m\u001b[1;33m\u001b[0m\u001b[1;33m\u001b[0m\u001b[0m\n\u001b[0m\u001b[0;32m   5461\u001b[0m \u001b[1;33m\u001b[0m\u001b[0m\n\u001b[0;32m   5462\u001b[0m     \u001b[1;32mdef\u001b[0m \u001b[0m__setattr__\u001b[0m\u001b[1;33m(\u001b[0m\u001b[0mself\u001b[0m\u001b[1;33m,\u001b[0m \u001b[0mname\u001b[0m\u001b[1;33m:\u001b[0m \u001b[0mstr\u001b[0m\u001b[1;33m,\u001b[0m \u001b[0mvalue\u001b[0m\u001b[1;33m)\u001b[0m \u001b[1;33m->\u001b[0m \u001b[1;32mNone\u001b[0m\u001b[1;33m:\u001b[0m\u001b[1;33m\u001b[0m\u001b[1;33m\u001b[0m\u001b[0m\n",
      "\u001b[1;31mAttributeError\u001b[0m: 'Series' object has no attribute 'Value_Count'"
     ]
    }
   ],
   "source": [
    "x = df.Passengerid.Value_Count().index\n",
    "y = df.Passengerid.Value_Count().values\n",
    "\n",
    "print(x)"
   ]
  },
  {
   "cell_type": "code",
   "execution_count": null,
   "metadata": {},
   "outputs": [],
   "source": []
  }
 ],
 "metadata": {
  "kernelspec": {
   "display_name": "Python 3",
   "language": "python",
   "name": "python3"
  },
  "language_info": {
   "codemirror_mode": {
    "name": "ipython",
    "version": 3
   },
   "file_extension": ".py",
   "mimetype": "text/x-python",
   "name": "python",
   "nbconvert_exporter": "python",
   "pygments_lexer": "ipython3",
   "version": "3.7.9"
  }
 },
 "nbformat": 4,
 "nbformat_minor": 4
}
