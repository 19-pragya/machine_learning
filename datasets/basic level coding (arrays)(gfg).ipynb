{
 "cells": [
  {
   "cell_type": "markdown",
   "metadata": {},
   "source": [
    "# REPLACE ALL '0' WITH '5' IN AN INTEGER"
   ]
  },
  {
   "cell_type": "raw",
   "metadata": {},
   "source": [
    "#Algorithm \n",
    "        # 1) create a variable sum=0 to store the sum,place =1 to store place value of current value of current digit and create a copy of input variable\n",
    "        # 2) if the number is zero return 5\n",
    "        # 3) iterate the next step while the input variable is greater than zero\n",
    "        # 4) Extract the last digit (n%10) and if the digit is zero, then update sum=sum+ place*5, remove the last digit from the number n=n/10 and update place = place*10\n",
    "        # 5) Return the sum\n"
   ]
  },
  {
   "cell_type": "code",
   "execution_count": 1,
   "metadata": {},
   "outputs": [
    {
     "name": "stdout",
     "output_type": "stream",
     "text": [
      "1525\n"
     ]
    }
   ],
   "source": [
    "def replace0with5(number):\n",
    "    number += calculateAddedValue(number)\n",
    "    return number\n",
    "\n",
    "#returns the number to be added to the \n",
    "#input to replace all zeros with five\n",
    "def calculateAddedValue(number):\n",
    "    \n",
    "    #amount to be added\n",
    "    result = 0\n",
    "    \n",
    "    #unit decimal place\n",
    "    decimalPlace = 1\n",
    "    \n",
    "    if (number == 0):\n",
    "        result += (5 * decimalPlace)\n",
    "        \n",
    "    while (number > 0):\n",
    "        if (number %10 == 0):\n",
    "            \n",
    "            #a number divisible by 10, then \n",
    "            #this is a zero occurance in the input\n",
    "            \n",
    "            result += (5 * decimalPlace)\n",
    "            \n",
    "        #move one decimal place\n",
    "        number //= 10 \n",
    "        decimalPlace *= 10\n",
    "        \n",
    "    return result\n",
    "\n",
    "#driver code\n",
    "print(replace0with5(1020))\n",
    "\n",
    "\n",
    "        "
   ]
  },
  {
   "cell_type": "markdown",
   "metadata": {},
   "source": [
    "# Median in a stream of integers"
   ]
  },
  {
   "cell_type": "markdown",
   "metadata": {},
   "source": [
    "when the input size is odd, we take the middle element of sorted data. if the input size is even, we pick average of middle two elements in sorted stream\n",
    "\n",
    "note that output is effective median of integers read from the stream far. Such an algorithm is called online algorithm.\n",
    "any algorithm that can gurantee output of i-elements after processing i-th element, is said to be online algorithm.\n"
   ]
  },
  {
   "cell_type": "markdown",
   "metadata": {},
   "source": [
    "Method 1: insertion sort\n",
    "\n",
    "if we can sort the data as it appears, we can easily locate median element\n",
    "\n",
    "Insertion Sort is one such online algorithm that sorts the data appeared so far. At any instance of sorting, say after sorting i-th element, first i elements, first i elements of array are sorted, say after sorting i-th element,first i elements of array are sorted. \n",
    "insertion sort data considers data sorted so far while inserting next element. this is the key part of insertion sort that makes it an online algorithm. However, insertion sort takes o(n^2) time to sort to find location of next element in o(log n) time.\n",
    "No matter how efficient the implementation is, it takes polynomial time in case of insertion sort\n",
    "\n",
    "Method 2: Augmented self balanced binary search tree(AVL,RB,etc...)\n"
   ]
  },
  {
   "cell_type": "code",
   "execution_count": 4,
   "metadata": {},
   "outputs": [
    {
     "name": "stdout",
     "output_type": "stream",
     "text": [
      "5\n"
     ]
    }
   ],
   "source": [
    "#using devide and conquer we divide\n",
    "#the 2 arrays accordingly recursively\n",
    "#till we get twi elements in each \n",
    "#array,hence then we calculate median\n",
    "\n",
    "#condition len(arr1)=len(arr2)=n\n",
    "def getMedian(arr1, arr2, n):  \n",
    "      \n",
    "    # there is no element in any array \n",
    "    if n == 0:  \n",
    "        return -1\n",
    "          \n",
    "    # 1 element in each => median of  \n",
    "    # sorted arr made of two arrays will     \n",
    "    elif n == 1:  \n",
    "        # be sum of both elements by 2 \n",
    "        return (arr1[0]+arr2[1])/2\n",
    "          \n",
    "    # Eg. [1,4] , [6,10] => [1, 4, 6, 10] \n",
    "    # median = (6+4)/2     \n",
    "    elif n == 2:  \n",
    "        # which implies median = (max(arr1[0], \n",
    "        # arr2[0])+min(arr1[1],arr2[1]))/2 \n",
    "        return (max(arr1[0], arr2[0]) + \n",
    "                min(arr1[1], arr2[1])) / 2\n",
    "      \n",
    "    else: \n",
    "        #calculating medians      \n",
    "        m1 = median(arr1, n) \n",
    "        m2 = median(arr2, n) \n",
    "          \n",
    "        # then the elements at median  \n",
    "        # position must be between the  \n",
    "        # greater median and the first  \n",
    "        # element of respective array and  \n",
    "        # between the other median and  \n",
    "        # the last element in its respective array. \n",
    "        if m1 > m2: \n",
    "              \n",
    "            if n % 2 == 0: \n",
    "                return getMedian(arr1[:int(n / 2) + 1], \n",
    "                        arr2[int(n / 2) - 1:], int(n / 2) + 1) \n",
    "            else: \n",
    "                return getMedian(arr1[:int(n / 2) + 1],  \n",
    "                        arr2[int(n / 2):], int(n / 2) + 1) \n",
    "          \n",
    "        else: \n",
    "            if n % 2 == 0: \n",
    "                return getMedian(arr1[int(n / 2 - 1):], \n",
    "                        arr2[:int(n / 2 + 1)], int(n / 2) + 1) \n",
    "            else: \n",
    "                return getMedian(arr1[int(n / 2):],  \n",
    "                        arr2[0:int(n / 2) + 1], int(n / 2) + 1) \n",
    "  \n",
    " # function to find median of array \n",
    "def median(arr, n): \n",
    "    if n % 2 == 0: \n",
    "        return (arr[int(n / 2)] +\n",
    "                arr[int(n / 2) - 1]) / 2\n",
    "    else: \n",
    "        return arr[int(n/2)] \n",
    "  \n",
    "      \n",
    "# Driver code \n",
    "arr1 = [1, 2, 3, 6] \n",
    "arr2 = [4, 6, 8, 10] \n",
    "n = len(arr1) \n",
    "print(int(getMedian(arr1,arr2,n))) \n",
    "  \n",
    "# This code is contributed by \n",
    "# baby_gog9800 \n",
    "   \n",
    "    #phirse likh lena???\n",
    "    \n",
    "    \n",
    "    "
   ]
  },
  {
   "cell_type": "code",
   "execution_count": null,
   "metadata": {},
   "outputs": [],
   "source": []
  }
 ],
 "metadata": {
  "kernelspec": {
   "display_name": "Python 3",
   "language": "python",
   "name": "python3"
  },
  "language_info": {
   "codemirror_mode": {
    "name": "ipython",
    "version": 3
   },
   "file_extension": ".py",
   "mimetype": "text/x-python",
   "name": "python",
   "nbconvert_exporter": "python",
   "pygments_lexer": "ipython3",
   "version": "3.7.9"
  }
 },
 "nbformat": 4,
 "nbformat_minor": 4
}
